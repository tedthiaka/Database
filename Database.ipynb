{
 "cells": [
  {
   "cell_type": "code",
   "execution_count": 1,
   "metadata": {},
   "outputs": [],
   "source": [
    "import sqlite3"
   ]
  },
  {
   "cell_type": "code",
   "execution_count": 2,
   "metadata": {},
   "outputs": [
    {
     "data": {
      "text/plain": [
       "'2.6.0'"
      ]
     },
     "execution_count": 2,
     "metadata": {},
     "output_type": "execute_result"
    }
   ],
   "source": [
    "sqlite3.version"
   ]
  },
  {
   "cell_type": "code",
   "execution_count": 3,
   "metadata": {},
   "outputs": [],
   "source": [
    "con = sqlite3.connect(\"./Student.db\")\n",
    "#Connect to database"
   ]
  },
  {
   "cell_type": "code",
   "execution_count": 4,
   "metadata": {},
   "outputs": [],
   "source": [
    "cur = con.cursor()\n",
    "#Helps us manipulate the database"
   ]
  },
  {
   "cell_type": "code",
   "execution_count": 16,
   "metadata": {},
   "outputs": [],
   "source": [
    "#Inserts data\n",
    "cur.execute('insert into students (fname,lname,dob,gender,phone) values(\"Josh\",\"Ndubi\",\"12/10/2010\",\"Male\",0716321268)')\n",
    "cur.execute('insert into students (fname,lname,dob,gender,phone) values(\"Milicent\",\"Wamaitha\",\"09/09/2009\",\"Female\",0712621268)')\n",
    "cur.execute('insert into students (fname,lname,dob,gender,phone) values(\"Jacob\",\"Wakazi\",\"08/08/2007\",\"Male\",0712361268)')\n",
    "cur.execute('insert into students (fname,lname,dob,gender,phone) values(\"Marion\",\"Wajosefu\",\"06/05/2004\",\"Female\",0712326268)')\n",
    "#The fields are not necessary\n",
    "cur.execute('insert into students values(\"Marlene\",\"Wajosefu\",\"06/05/2003\",\"Female\",0712326668)')\n",
    "#Commits changes\n",
    "con.commit()"
   ]
  },
  {
   "cell_type": "code",
   "execution_count": 6,
   "metadata": {
    "collapsed": true
   },
   "outputs": [
    {
     "data": {
      "text/plain": [
       "[('Storm', 'Gachoki', '12/02/2003', 'Male', 797327921),\n",
       " ('Mandy', 'Wanjiku', '23/03/2001', 'Female', 823792373),\n",
       " ('Austin', 'Anyango', '21/04/2000', 'Male', 723982732),\n",
       " ('Lisa', 'Odula', '20/05/1998', 'Female', 2525551255),\n",
       " ('John', 'Mbiso', '24/03/1976', 'Male', 723482634),\n",
       " ('name1', 'new lname', '12/12/12', 'M', 712321268),\n",
       " ('James', 'Ndubi', '12/10/10', 'Male', 716321268),\n",
       " ('Lucy', 'Wamaitha', '09/09/09', 'Female', 712621268),\n",
       " ('Job', 'Wakazi', '08/08/07', 'Male', 712361268),\n",
       " ('Mary', 'Wajosefu', '06/05/04', 'Female', 712326268),\n",
       " ('James', 'Ndubi', '12/10/10', 'Male', 716321268),\n",
       " ('Lucy', 'Wamaitha', '09/09/09', 'Female', 712621268),\n",
       " ('Job', 'Wakazi', '08/08/07', 'Male', 712361268),\n",
       " ('Mary', 'Wajosefu', '06/05/04', 'Female', 712326268),\n",
       " ('James', 'Ndubi', '12/10/10', 'Male', 716321268),\n",
       " ('Lucy', 'Wamaitha', '09/09/09', 'Female', 712621268),\n",
       " ('Job', 'Wakazi', '08/08/07', 'Male', 712361268),\n",
       " ('Mary', 'Wajosefu', '06/05/04', 'Female', 712326268)]"
      ]
     },
     "execution_count": 6,
     "metadata": {},
     "output_type": "execute_result"
    }
   ],
   "source": [
    "#(*)To select all fields\n",
    "cur.execute('SELECT * FROM students')\n",
    "#Fetch all fields\n",
    "cur.fetchall()"
   ]
  },
  {
   "cell_type": "code",
   "execution_count": 7,
   "metadata": {},
   "outputs": [
    {
     "data": {
      "text/plain": [
       "('Storm', 'Gachoki', '12/02/2003', 'Male', 797327921)"
      ]
     },
     "execution_count": 7,
     "metadata": {},
     "output_type": "execute_result"
    }
   ],
   "source": [
    "#(*)To select all fields\n",
    "cur.execute('SELECT * FROM students')\n",
    "#Fetch first one \n",
    "cur.fetchone()"
   ]
  },
  {
   "cell_type": "code",
   "execution_count": 8,
   "metadata": {
    "collapsed": true
   },
   "outputs": [
    {
     "data": {
      "text/plain": [
       "[('Storm',),\n",
       " ('Mandy',),\n",
       " ('Austin',),\n",
       " ('Lisa',),\n",
       " ('John',),\n",
       " ('name1',),\n",
       " ('James',),\n",
       " ('Lucy',),\n",
       " ('Job',),\n",
       " ('Mary',),\n",
       " ('James',),\n",
       " ('Lucy',),\n",
       " ('Job',),\n",
       " ('Mary',),\n",
       " ('James',),\n",
       " ('Lucy',),\n",
       " ('Job',),\n",
       " ('Mary',)]"
      ]
     },
     "execution_count": 8,
     "metadata": {},
     "output_type": "execute_result"
    }
   ],
   "source": [
    "#Fetch specific fields\n",
    "cur.execute('SELECT fname FROM students')\n",
    "cur.fetchall()"
   ]
  },
  {
   "cell_type": "code",
   "execution_count": 9,
   "metadata": {},
   "outputs": [
    {
     "data": {
      "text/plain": [
       "[('Storm', 'Gachoki', '12/02/2003', 'Male', 797327921)]"
      ]
     },
     "execution_count": 9,
     "metadata": {},
     "output_type": "execute_result"
    }
   ],
   "source": [
    "#Select 'Storm' in fname\n",
    "cur.execute('SELECT * FROM students WHERE fname=\"Storm\"')\n",
    "cur.fetchall()"
   ]
  },
  {
   "cell_type": "code",
   "execution_count": 10,
   "metadata": {},
   "outputs": [
    {
     "data": {
      "text/plain": [
       "[('name1', 'new lname', '12/12/12', 'M', 712321268)]"
      ]
     },
     "execution_count": 10,
     "metadata": {},
     "output_type": "execute_result"
    }
   ],
   "source": [
    "#Select a specific dob\n",
    "cur.execute('SELECT * FROM students WHERE dob=\"12/12/12\"')\n",
    "cur.fetchall()"
   ]
  },
  {
   "cell_type": "code",
   "execution_count": 11,
   "metadata": {
    "collapsed": true
   },
   "outputs": [
    {
     "data": {
      "text/plain": [
       "[('Storm', 'Gachoki', '12/02/2003', 'Male', 797327921),\n",
       " ('Austin', 'Anyango', '21/04/2000', 'Male', 723982732),\n",
       " ('John', 'Mbiso', '24/03/1976', 'Male', 723482634),\n",
       " ('name1', 'new lname', '12/12/12', 'M', 712321268),\n",
       " ('James', 'Ndubi', '12/10/10', 'Male', 716321268),\n",
       " ('Job', 'Wakazi', '08/08/07', 'Male', 712361268),\n",
       " ('James', 'Ndubi', '12/10/10', 'Male', 716321268),\n",
       " ('Job', 'Wakazi', '08/08/07', 'Male', 712361268),\n",
       " ('James', 'Ndubi', '12/10/10', 'Male', 716321268),\n",
       " ('Job', 'Wakazi', '08/08/07', 'Male', 712361268)]"
      ]
     },
     "execution_count": 11,
     "metadata": {},
     "output_type": "execute_result"
    }
   ],
   "source": [
    "#Select records for \"Males\"\n",
    "cur.execute('SELECT * FROM students WHERE gender=\"Male\" OR gender = \"M\"')\n",
    "cur.fetchall()"
   ]
  },
  {
   "cell_type": "code",
   "execution_count": 12,
   "metadata": {
    "collapsed": true
   },
   "outputs": [
    {
     "data": {
      "text/plain": [
       "[('Mandy', 'Wanjiku', '23/03/2001', 'Female', 823792373),\n",
       " ('Lisa', 'Odula', '20/05/1998', 'Female', 2525551255),\n",
       " ('Lucy', 'Wamaitha', '09/09/09', 'Female', 712621268),\n",
       " ('Mary', 'Wajosefu', '06/05/04', 'Female', 712326268),\n",
       " ('Lucy', 'Wamaitha', '09/09/09', 'Female', 712621268),\n",
       " ('Mary', 'Wajosefu', '06/05/04', 'Female', 712326268),\n",
       " ('Lucy', 'Wamaitha', '09/09/09', 'Female', 712621268),\n",
       " ('Mary', 'Wajosefu', '06/05/04', 'Female', 712326268)]"
      ]
     },
     "execution_count": 12,
     "metadata": {},
     "output_type": "execute_result"
    }
   ],
   "source": [
    "#Select records for \"Females\"\n",
    "cur.execute('SELECT * FROM students WHERE gender=\"Female\"')\n",
    "cur.fetchall()"
   ]
  },
  {
   "cell_type": "code",
   "execution_count": 13,
   "metadata": {},
   "outputs": [
    {
     "data": {
      "text/plain": [
       "[('Austin', 'Anyango', '21/04/2000', 'Male', 723982732),\n",
       " ('John', 'Mbiso', '24/03/1976', 'Male', 723482634)]"
      ]
     },
     "execution_count": 13,
     "metadata": {},
     "output_type": "execute_result"
    }
   ],
   "source": [
    "#Select data in phone that starts with '072...' \n",
    "cur.execute('SELECT * FROM students WHERE phone like \"72%\"')\n",
    "cur.fetchall()"
   ]
  },
  {
   "cell_type": "code",
   "execution_count": 14,
   "metadata": {
    "collapsed": true
   },
   "outputs": [
    {
     "data": {
      "text/plain": [
       "[('Storm', 'Gachoki', '12/02/2003', 'Male', 797327921),\n",
       " ('Austin', 'Anyango', '21/04/2000', 'Male', 723982732),\n",
       " ('Lisa', 'Odula', '20/05/1998', 'Female', 2525551255),\n",
       " ('James', 'Ndubi', '12/10/10', 'Male', 716321268),\n",
       " ('James', 'Ndubi', '12/10/10', 'Male', 716321268),\n",
       " ('James', 'Ndubi', '12/10/10', 'Male', 716321268)]"
      ]
     },
     "execution_count": 14,
     "metadata": {},
     "output_type": "execute_result"
    }
   ],
   "source": [
    "#Select data in fname with an 's' in the name\n",
    "cur.execute('SELECT * FROM students WHERE fname like \"%s%\"')\n",
    "cur.fetchall()"
   ]
  },
  {
   "cell_type": "code",
   "execution_count": 15,
   "metadata": {},
   "outputs": [
    {
     "data": {
      "text/plain": [
       "[('name1', 'new lname', '12/12/12', 'M', 712321268)]"
      ]
     },
     "execution_count": 15,
     "metadata": {},
     "output_type": "execute_result"
    }
   ],
   "source": [
    "#Updating the table\n",
    "cur.execute('UPDATE students set lname =\"new lname\" WHERE fname = \"name1\"')#Updating a table\n",
    "#Commiting the changes\n",
    "con.commit()\n",
    "#Selecting the students\n",
    "cur.execute('SELECT * FROM students WHERE fname = \"name1\"')\n",
    "cur.fetchall()"
   ]
  },
  {
   "cell_type": "code",
   "execution_count": 17,
   "metadata": {},
   "outputs": [],
   "source": [
    "cur.execute('DELETE FROM students WHERE fname = \"name1\"')\n",
    "con.commit()"
   ]
  },
  {
   "cell_type": "code",
   "execution_count": 18,
   "metadata": {},
   "outputs": [],
   "source": [
    "cur.execute('DELETE FROM students WHERE fname = \"Marion\"')\n",
    "con.commit()"
   ]
  },
  {
   "cell_type": "code",
   "execution_count": 19,
   "metadata": {},
   "outputs": [],
   "source": [
    "cur.execute('DELETE FROM students WHERE dob = \"08/08/2007\"')\n",
    "con.commit()"
   ]
  },
  {
   "cell_type": "code",
   "execution_count": null,
   "metadata": {},
   "outputs": [],
   "source": []
  }
 ],
 "metadata": {
  "kernelspec": {
   "display_name": "Python 3",
   "language": "python",
   "name": "python3"
  },
  "language_info": {
   "codemirror_mode": {
    "name": "ipython",
    "version": 3
   },
   "file_extension": ".py",
   "mimetype": "text/x-python",
   "name": "python",
   "nbconvert_exporter": "python",
   "pygments_lexer": "ipython3",
   "version": "3.7.3"
  }
 },
 "nbformat": 4,
 "nbformat_minor": 2
}
